{
 "metadata": {
  "language_info": {
   "codemirror_mode": {
    "name": "ipython",
    "version": 3
   },
   "file_extension": ".py",
   "mimetype": "text/x-python",
   "name": "python",
   "nbconvert_exporter": "python",
   "pygments_lexer": "ipython3",
   "version": "3.8.0-final"
  },
  "orig_nbformat": 2,
  "kernelspec": {
   "name": "python38064bitbb570ef6ac8448328105324794866d62",
   "display_name": "Python 3.8.0 64-bit"
  }
 },
 "nbformat": 4,
 "nbformat_minor": 2,
 "cells": [
  {
   "cell_type": "code",
   "execution_count": 1,
   "metadata": {},
   "outputs": [],
   "source": [
    "import json"
   ]
  },
  {
   "cell_type": "code",
   "execution_count": 2,
   "metadata": {},
   "outputs": [],
   "source": [
    "with open('N06-19_HighwaySection.geojson') as f:\n",
    "    highways = json.load(f)['features']\n",
    "\n",
    "with open('N06-19_Joint.geojson') as f:\n",
    "    joints = json.load(f)['features']"
   ]
  },
  {
   "cell_type": "code",
   "execution_count": 3,
   "metadata": {},
   "outputs": [],
   "source": [
    "def tuplize_coordinate(coordinate):\n",
    "    return (coordinate[0], coordinate[1])"
   ]
  },
  {
   "cell_type": "code",
   "execution_count": 4,
   "metadata": {},
   "outputs": [],
   "source": [
    "ic_and_jct = {}\n",
    "for j in joints:\n",
    "    ic_and_jct[tuplize_coordinate(j['geometry']['coordinates'])] = j['properties']['地点名']"
   ]
  },
  {
   "cell_type": "code",
   "execution_count": 40,
   "metadata": {},
   "outputs": [],
   "source": [
    "\"\"\"\n",
    "graphのキーはIC・JCT名，\n",
    "valueは隣接してゐるIC・JCTのリストで，その要素は\n",
    "{\n",
    "    name: IC・JCT名,\n",
    "    road: 路線名\n",
    "}\n",
    "\"\"\"\n",
    "graph = {}\n",
    "\n",
    "# graphの初期化\n",
    "for ic in ic_and_jct.values():    \n",
    "    graph[ic] = []\n",
    "\n",
    "for h in highways:\n",
    "    points = [ic_and_jct[tuplize_coordinate(c)] for c in h['geometry']['coordinates'] if tuplize_coordinate(c) in ic_and_jct]\n",
    "\n",
    "    if len(points) <= 1:\n",
    "        continue\n",
    "\n",
    "    name = h['properties']['路線名']\n",
    "\n",
    "    for i in range(len(points)-1):\n",
    "        ic1 = points[i]\n",
    "        ic2 = points[i+1]\n",
    "        graph[ic1].append({'name': ic2, 'road': name})\n",
    "        graph[ic2].append({'name': ic1, 'road': name})\n",
    "    "
   ]
  },
  {
   "cell_type": "code",
   "execution_count": 41,
   "metadata": {},
   "outputs": [],
   "source": [
    "# 重複を削除\n",
    "for k, v in graph.items():\n",
    "    tmp = []\n",
    "    names = []\n",
    "    for node in v:\n",
    "        if node['name'] not in names:\n",
    "            names.append(node['name'])\n",
    "            tmp.append(node)\n",
    "        \n",
    "    graph[k] = tmp\n",
    "\n",
    "with open('highways_data2.json', 'w') as f:\n",
    "    json.dump(graph, f, indent=2, ensure_ascii=False)"
   ]
  },
  {
   "cell_type": "code",
   "execution_count": null,
   "metadata": {},
   "outputs": [],
   "source": []
  }
 ]
}